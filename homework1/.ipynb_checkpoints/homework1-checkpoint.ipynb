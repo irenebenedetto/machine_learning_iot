{
 "cells": [
  {
   "cell_type": "markdown",
   "metadata": {
    "colab_type": "text",
    "id": "view-in-github"
   },
   "source": [
    "<a href=\"https://colab.research.google.com/github/irenebenedetto/machine_learning_iot/blob/main/homework1/homework1.ipynb\" target=\"_parent\"><img src=\"https://colab.research.google.com/assets/colab-badge.svg\" alt=\"Open In Colab\"/></a>"
   ]
  },
  {
   "cell_type": "markdown",
   "metadata": {
    "id": "K59J50nB0c1X"
   },
   "source": [
    "# Homework 1\n"
   ]
  },
  {
   "cell_type": "markdown",
   "metadata": {
    "id": "cT4ufZ3q0gPJ"
   },
   "source": [
    "## Import the libraries"
   ]
  },
  {
   "cell_type": "code",
   "execution_count": 57,
   "metadata": {
    "id": "r2IBRFmVQNok"
   },
   "outputs": [],
   "source": [
    "import datetime\n",
    "import time\n",
    "import argparse\n",
    "import tensorflow as tf\n",
    "import numpy as np\n",
    "import pandas as pd\n",
    "import csv\n",
    "from os import path\n",
    "\n",
    "\"\"\"\n",
    "parser=argparse.ArgumentParser()\n",
    "parser.add_argument('-input',type=float, help='input file folder')\n",
    "parser.add_argument('-output',type=float, help='period in seconds')\n",
    "\n",
    "args = parser.parse_args()\n",
    "\n",
    "\n",
    "input_path = args.input\n",
    "output_file = args.output\n",
    "folder = input_path.split('/')[0]\n",
    "\n",
    "\"\"\"\n",
    "\n",
    "folder = \"./content/\"\n",
    "\n",
    "input_path = folder + \"input.csv\"\n",
    "output_file = folder + \"fusion.tfrecord\"\n"
   ]
  },
  {
   "cell_type": "markdown",
   "metadata": {
    "id": "1LAAfGgk0jvV"
   },
   "source": [
    "## Data Preparation: Sensor Fusion Dataset with TFRecord"
   ]
  },
  {
   "cell_type": "code",
   "execution_count": 85,
   "metadata": {
    "colab": {
     "base_uri": "https://localhost:8080/"
    },
    "id": "Ujc2NxI5gcId",
    "outputId": "59e6ae76-99e1-4115-ccc7-2fb7ee9a9fd3"
   },
   "outputs": [
    {
     "name": "stdout",
     "output_type": "stream",
     "text": [
      "From 2477.252197265625 to 2478.3782958984375 Mb\n"
     ]
    }
   ],
   "source": [
    "tot_size = path.getsize(input_path)\n",
    "\n",
    "# open the TFRecordWriter class\n",
    "with tf.io.TFRecordWriter(output_file) as writer:\n",
    "  with open(input_path) as input_file:\n",
    "    lines = csv.reader(input_file)\n",
    "    for fields in lines:\n",
    "      \n",
    "      date = fields[0]\n",
    "      hour = fields[1]\n",
    "      temp = int(fields[2])\n",
    "      humidity = int(fields[3])\n",
    "\n",
    "      path_audio = folder + fields[4]\n",
    "      tot_size += path.getsize(path_audio)\n",
    "\n",
    "      # convert date into posix int \n",
    "      dt = datetime.datetime.strptime(date + \" \" + hour, \"%d/%m/%Y %H:%M:%S\")\n",
    "      posix = int(time.mktime(dt.timetuple()))\n",
    "\n",
    "      # create the features \n",
    "      posix_feature = tf.train.Feature(int64_list=tf.train.Int64List(value=[posix])) \n",
    "      temp_feature = tf.train.Feature(int64_list=tf.train.Int64List(value=[temp])) \n",
    "      humidity_feature = tf.train.Feature(int64_list=tf.train.Int64List(value=[humidity])) \n",
    "\n",
    "      # read audio file\n",
    "      raw_audio = tf.io.read_file(path_audio)\n",
    "      audio, _ = tf.audio.decode_wav(raw_audio)\n",
    "\n",
    "      audio_feature = tf.train.Feature(bytes_list=tf.train.BytesList(value=[raw_audio.numpy()]))\n",
    "      #audio_feature = tf.train.Feature(float_list=tf.train.FloatList(value=[audio]))\n",
    "\n",
    "      # crate the dictionary for the structure of each record\n",
    "      mapping = {\n",
    "          \n",
    "          'a': posix_feature, \n",
    "          'b': temp_feature,\n",
    "          'c': humidity_feature,\n",
    "          'd': audio_feature,\n",
    "\n",
    "      }\n",
    "      example = tf.train.Example(features=tf.train.Features(feature=mapping)) \n",
    "      writer.write(example.SerializeToString())\n",
    "\n",
    "red_size = path.getsize(output_file)\n",
    "\n",
    "print(f\"From {str(tot_size/(1024.*1024.))} to {str(red_size/(1024.*1024.))} Mb\")\n",
    "\n"
   ]
  }
 ],
 "metadata": {
  "colab": {
   "collapsed_sections": [],
   "include_colab_link": true,
   "name": "homework1.ipynb",
   "provenance": [],
   "toc_visible": true
  },
  "kernelspec": {
   "display_name": "Python 3",
   "language": "python",
   "name": "python3"
  },
  "language_info": {
   "codemirror_mode": {
    "name": "ipython",
    "version": 3
   },
   "file_extension": ".py",
   "mimetype": "text/x-python",
   "name": "python",
   "nbconvert_exporter": "python",
   "pygments_lexer": "ipython3",
   "version": "3.8.6"
  }
 },
 "nbformat": 4,
 "nbformat_minor": 1
}
